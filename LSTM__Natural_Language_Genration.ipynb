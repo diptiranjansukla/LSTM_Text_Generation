{
  "metadata": {
    "language_info": {
      "name": "python",
      "version": "3.6.6",
      "mimetype": "text/x-python",
      "codemirror_mode": {
        "name": "ipython",
        "version": 3
      },
      "pygments_lexer": "ipython3",
      "nbconvert_exporter": "python",
      "file_extension": ".py"
    },
    "kernelspec": {
      "display_name": "Python 3",
      "name": "python3"
    },
    "kaggle": {
      "accelerator": "gpu",
      "dataSources": [
        {
          "sourceId": 31436,
          "sourceType": "datasetVersion",
          "datasetId": 19447
        }
      ],
      "dockerImageVersionId": 19668,
      "isInternetEnabled": false,
      "language": "python",
      "sourceType": "notebook",
      "isGpuEnabled": true
    },
    "colab": {
      "provenance": [],
      "gpuType": "T4"
    },
    "accelerator": "GPU"
  },
  "nbformat_minor": 0,
  "nbformat": 4,
  "cells": [
    {
      "source": [
        "\n",
        "import os\n",
        "import sys\n",
        "from tempfile import NamedTemporaryFile\n",
        "from urllib.request import urlopen\n",
        "from urllib.parse import unquote, urlparse\n",
        "from urllib.error import HTTPError\n",
        "from zipfile import ZipFile\n",
        "import tarfile\n",
        "import shutil\n",
        "\n",
        "CHUNK_SIZE = 40960\n",
        "DATA_SOURCE_MAPPING = ':https%3A%2F%2Fstorage.googleapis.com%2Fkaggle-data-sets%2F19447%2F31436%2Fbundle%2Farchive.zip%3FX-Goog-Algorithm%3DGOOG4-RSA-SHA256%26X-Goog-Credential%3Dgcp-kaggle-com%2540kaggle-161607.iam.gserviceaccount.com%252F20240126%252Fauto%252Fstorage%252Fgoog4_request%26X-Goog-Date%3D20240126T072942Z%26X-Goog-Expires%3D259200%26X-Goog-SignedHeaders%3Dhost%26X-Goog-Signature%3D3a90def81f13ca32c76dd99dd40db9c847615e11c9f9de88f57a916559645551ad5fa23b55c0adf45929c388989f8bbef2edcd585a2cd716bb7ffe065b0dbaf35b9192f2c33035c71a7864c5abfb16c39edc6332774797a4f1d1922a743e6244d6fa281ff3e087c1da5bde9b923109dab6eb6902ec7ebb767b65046e8d093abe0b6b12c70364773ef2f11a148e1bd4ba85a333fec93a96d111ad93ce6ee65f1c86c5e4035d9a2882dfb83434a600d67e1f532847e59d858b27bfdc77aedc97a895bac650d61b0ced966e5dcfd5a9f28a4290ac32a362fd50e9a230675ebe511d0bfa0a300923e439b667c39f512b66bdb384d323cbf9cb2c61dfd9e5b354861b'\n",
        "\n",
        "KAGGLE_INPUT_PATH='/kaggle/input'\n",
        "KAGGLE_WORKING_PATH='/kaggle/working'\n",
        "KAGGLE_SYMLINK='kaggle'\n",
        "\n",
        "!umount /kaggle/input/ 2> /dev/null\n",
        "shutil.rmtree('/kaggle/input', ignore_errors=True)\n",
        "os.makedirs(KAGGLE_INPUT_PATH, 0o777, exist_ok=True)\n",
        "os.makedirs(KAGGLE_WORKING_PATH, 0o777, exist_ok=True)\n",
        "\n",
        "try:\n",
        "  os.symlink(KAGGLE_INPUT_PATH, os.path.join(\"..\", 'input'), target_is_directory=True)\n",
        "except FileExistsError:\n",
        "  pass\n",
        "try:\n",
        "  os.symlink(KAGGLE_WORKING_PATH, os.path.join(\"..\", 'working'), target_is_directory=True)\n",
        "except FileExistsError:\n",
        "  pass\n",
        "\n",
        "for data_source_mapping in DATA_SOURCE_MAPPING.split(','):\n",
        "    directory, download_url_encoded = data_source_mapping.split(':')\n",
        "    download_url = unquote(download_url_encoded)\n",
        "    filename = urlparse(download_url).path\n",
        "    destination_path = os.path.join(KAGGLE_INPUT_PATH, directory)\n",
        "    try:\n",
        "        with urlopen(download_url) as fileres, NamedTemporaryFile() as tfile:\n",
        "            total_length = fileres.headers['content-length']\n",
        "            print(f'Downloading {directory}, {total_length} bytes compressed')\n",
        "            dl = 0\n",
        "            data = fileres.read(CHUNK_SIZE)\n",
        "            while len(data) > 0:\n",
        "                dl += len(data)\n",
        "                tfile.write(data)\n",
        "                done = int(50 * dl / int(total_length))\n",
        "                sys.stdout.write(f\"\\r[{'=' * done}{' ' * (50-done)}] {dl} bytes downloaded\")\n",
        "                sys.stdout.flush()\n",
        "                data = fileres.read(CHUNK_SIZE)\n",
        "            if filename.endswith('.zip'):\n",
        "              with ZipFile(tfile) as zfile:\n",
        "                zfile.extractall(destination_path)\n",
        "            else:\n",
        "              with tarfile.open(tfile.name) as tarfile:\n",
        "                tarfile.extractall(destination_path)\n",
        "            print(f'\\nDownloaded and uncompressed: {directory}')\n",
        "    except HTTPError as e:\n",
        "        print(f'Failed to load (likely expired) {download_url} to path {destination_path}')\n",
        "        continue\n",
        "    except OSError as e:\n",
        "        print(f'Failed to load {download_url} to path {destination_path}')\n",
        "        continue\n",
        "\n",
        "print('Data source import complete.')\n"
      ],
      "metadata": {
        "id": "kBzrodj8rKyu",
        "outputId": "ebdc209a-0007-418b-beac-5cc15f33b44a",
        "colab": {
          "base_uri": "https://localhost:8080/"
        }
      },
      "cell_type": "code",
      "outputs": [
        {
          "output_type": "stream",
          "name": "stdout",
          "text": [
            "Downloading , 502973613 bytes compressed\n",
            "[==================================================] 502973613 bytes downloaded\n",
            "Downloaded and uncompressed: \n",
            "Data source import complete.\n"
          ]
        }
      ],
      "execution_count": null
    },
    {
      "cell_type": "markdown",
      "source": [
        "\n",
        "### Generating News headlines\n",
        "\n",
        "In this kernel, I will be using the dataset of [New York Times Comments and Headlines](https://www.kaggle.com/aashita/nyt-comments) to train a text generation language model which can be used to generate News Headlines\n",
        "\n",
        "\n",
        "## 1. Import the libraries\n",
        "\n",
        "As the first step, we need to import the required libraries:"
      ],
      "metadata": {
        "_uuid": "20c011dd401be7b6448c43f965e5d0bf548c53b9",
        "_cell_guid": "e084e610-8128-4769-ab64-6aa194044892",
        "id": "sE8qfdAgrKy8"
      }
    },
    {
      "cell_type": "code",
      "source": [
        "# keras module for building LSTM\n",
        "from keras.preprocessing.sequence import pad_sequences\n",
        "from keras.layers import Embedding, LSTM, Dense, Dropout\n",
        "from keras.preprocessing.text import Tokenizer\n",
        "from keras.callbacks import EarlyStopping\n",
        "from keras.models import Sequential\n",
        "import keras.utils as ku\n",
        "\n",
        "# set seeds for reproducability\n",
        "# from tensorflow import set_random_seed\n",
        "from numpy.random import seed\n",
        "# set_random_seed(2)\n",
        "seed(1)\n",
        "\n",
        "import pandas as pd\n",
        "import numpy as np\n",
        "import string, os\n",
        "\n",
        "import warnings\n",
        "warnings.filterwarnings(\"ignore\")\n",
        "warnings.simplefilter(action='ignore', category=FutureWarning)"
      ],
      "metadata": {
        "_uuid": "8f2839f25d086af736a60e9eeb907d3b93b6e0e5",
        "_cell_guid": "b1076dfc-b9ad-4769-8c92-a6c4dae69d19",
        "execution": {
          "iopub.status.busy": "2023-11-20T18:34:40.421292Z",
          "iopub.execute_input": "2023-11-20T18:34:40.421553Z",
          "iopub.status.idle": "2023-11-20T18:34:43.179864Z",
          "shell.execute_reply.started": "2023-11-20T18:34:40.421511Z",
          "shell.execute_reply": "2023-11-20T18:34:43.179204Z"
        },
        "trusted": true,
        "id": "z_Vc9nZdrKzF"
      },
      "execution_count": null,
      "outputs": []
    },
    {
      "cell_type": "markdown",
      "source": [
        "## 2. Load the dataset\n",
        "\n"
      ],
      "metadata": {
        "_uuid": "d629ff2d2480ee46fbb7e2d37f6b5fab8052498a",
        "_cell_guid": "79c7e3d0-c299-4dcb-8224-4455121ee9b0",
        "id": "wBJ2aS2zrKzG"
      }
    },
    {
      "cell_type": "code",
      "source": [
        "curr_dir = '../input/'\n",
        "all_headlines = []\n",
        "for filename in os.listdir(curr_dir):\n",
        "    if 'Articles' in filename:\n",
        "        article_df = pd.read_csv(curr_dir + filename)\n",
        "        all_headlines.extend(list(article_df.headline.values))\n",
        "        break\n",
        "\n",
        "all_headlines = [h for h in all_headlines if h != \"Unknown\"]\n",
        "len(all_headlines)"
      ],
      "metadata": {
        "_uuid": "87836e3adbe046dd0db62013491ba62bae93b6be",
        "_cell_guid": "b8ef1429-ff19-4a6c-92d7-af8cc61c55f7",
        "execution": {
          "iopub.status.busy": "2023-11-20T18:34:43.181132Z",
          "iopub.execute_input": "2023-11-20T18:34:43.18139Z",
          "iopub.status.idle": "2023-11-20T18:34:43.301956Z",
          "shell.execute_reply.started": "2023-11-20T18:34:43.181343Z",
          "shell.execute_reply": "2023-11-20T18:34:43.301103Z"
        },
        "trusted": true,
        "id": "AhoV3oRdrKzH",
        "outputId": "07647f35-7641-4db5-893b-0b0463915f8e",
        "colab": {
          "base_uri": "https://localhost:8080/"
        }
      },
      "execution_count": null,
      "outputs": [
        {
          "output_type": "execute_result",
          "data": {
            "text/plain": [
              "1066"
            ]
          },
          "metadata": {},
          "execution_count": 6
        }
      ]
    },
    {
      "cell_type": "markdown",
      "source": [
        "## 3. Dataset preparation\n",
        "\n",
        "### 3.1 Dataset cleaning\n",
        "\n"
      ],
      "metadata": {
        "_uuid": "fda5d4868631d3618d4d9a9a863541b2faf121c0",
        "_cell_guid": "9dbd8bc9-fb61-43b9-b0c4-98bd7f3f8150",
        "id": "A-2I8nkyrKzI"
      }
    },
    {
      "cell_type": "code",
      "source": [
        "def clean_text(txt):\n",
        "    txt = \"\".join(v for v in txt if v not in string.punctuation).lower()\n",
        "    txt = txt.encode(\"utf8\").decode(\"ascii\",'ignore')\n",
        "    return txt\n",
        "\n",
        "corpus = [clean_text(x) for x in all_headlines]\n",
        "corpus[:10]"
      ],
      "metadata": {
        "_uuid": "2a07365a27a7ba2f92fc9ba4d05d8e6254a68d8c",
        "_cell_guid": "b8bf84ed-da11-4f89-a584-9dceea677420",
        "execution": {
          "iopub.status.busy": "2023-11-20T18:34:43.303042Z",
          "iopub.execute_input": "2023-11-20T18:34:43.303254Z",
          "iopub.status.idle": "2023-11-20T18:34:43.317062Z",
          "shell.execute_reply.started": "2023-11-20T18:34:43.303217Z",
          "shell.execute_reply": "2023-11-20T18:34:43.316376Z"
        },
        "trusted": true,
        "id": "YS9jhXulrKzJ",
        "outputId": "bfe8256d-101f-43f8-ac4d-a21ed5374317",
        "colab": {
          "base_uri": "https://localhost:8080/"
        }
      },
      "execution_count": null,
      "outputs": [
        {
          "output_type": "execute_result",
          "data": {
            "text/plain": [
              "['i stand  with the shedevils',\n",
              " 'trumps birth control problems',\n",
              " 'whats the craziest thing youve ever found in a xerox machine',\n",
              " 'us allies conflict is isis gain',\n",
              " '15 trillion plan on infrastructure but not a lot of funding or details',\n",
              " 'mueller zeros in on a trump tower cover story',\n",
              " ' with speech a dreamers rift deepens',\n",
              " 'at the start',\n",
              " 'the assassination of gianni versace episode 3 death or disgrace',\n",
              " 'britains model for outsourcing services may be cracking']"
            ]
          },
          "metadata": {},
          "execution_count": 7
        }
      ]
    },
    {
      "cell_type": "markdown",
      "source": [
        "### 3.2 Generating Sequence of N-gram Tokens\n",
        "\n",
        "Language modelling requires a sequence input data, as given a sequence (of words/tokens) the aim is the predict next word/token.  \n",
        "\n",
        "The next step is Tokenization. Tokenization is a process of extracting tokens (terms / words) from a corpus. Python’s library Keras has inbuilt model for tokenization which can be used to obtain the tokens and their index in the corpus. After this step, every text document in the dataset is converted into sequence of tokens.\n"
      ],
      "metadata": {
        "_uuid": "6fd11859fd71aa5c7ce10bdbbd31c8eb6d1b3118",
        "_cell_guid": "9d83cc08-19ba-4b00-9ca6-dcf5ff39c8af",
        "id": "pQ5nUluPrKzK"
      }
    },
    {
      "cell_type": "code",
      "source": [
        "tokenizer = Tokenizer()\n",
        "\n",
        "def get_sequence_of_tokens(corpus):\n",
        "    ## tokenization\n",
        "    tokenizer.fit_on_texts(corpus)\n",
        "    total_words = len(tokenizer.word_index) + 1\n",
        "\n",
        "    ## convert data to sequence of tokens\n",
        "    input_sequences = []\n",
        "    for line in corpus:\n",
        "        token_list = tokenizer.texts_to_sequences([line])[0]\n",
        "        for i in range(1, len(token_list)):\n",
        "            n_gram_sequence = token_list[:i+1]\n",
        "            input_sequences.append(n_gram_sequence)\n",
        "    return input_sequences, total_words\n",
        "\n",
        "inp_sequences, total_words = get_sequence_of_tokens(corpus)\n",
        "inp_sequences[:10]"
      ],
      "metadata": {
        "_uuid": "9129a8b773feb72eff91aa0025157a173d10c625",
        "_cell_guid": "896543c9-7944-4748-b8ef-ef8cbc2a84f0",
        "execution": {
          "iopub.status.busy": "2023-11-20T18:34:43.31833Z",
          "iopub.execute_input": "2023-11-20T18:34:43.318532Z",
          "iopub.status.idle": "2023-11-20T18:34:43.368556Z",
          "shell.execute_reply.started": "2023-11-20T18:34:43.318496Z",
          "shell.execute_reply": "2023-11-20T18:34:43.367905Z"
        },
        "trusted": true,
        "id": "wZUcLMmTrKzL",
        "outputId": "fe7a8075-66d4-4708-bbd9-cc3f54ad27ec",
        "colab": {
          "base_uri": "https://localhost:8080/"
        }
      },
      "execution_count": null,
      "outputs": [
        {
          "output_type": "execute_result",
          "data": {
            "text/plain": [
              "[[29, 506],\n",
              " [29, 506, 10],\n",
              " [29, 506, 10, 1],\n",
              " [29, 506, 10, 1, 974],\n",
              " [33, 975],\n",
              " [33, 975, 226],\n",
              " [33, 975, 226, 976],\n",
              " [167, 1],\n",
              " [167, 1, 977],\n",
              " [167, 1, 977, 313]]"
            ]
          },
          "metadata": {},
          "execution_count": 8
        }
      ]
    },
    {
      "cell_type": "markdown",
      "source": [
        "In the above output [30, 507], [30, 507, 11], [30, 507, 11, 1] and so on represents the ngram phrases generated from the input data. where every integer corresponds to the index of a particular word in the complete vocabulary of words present in the text. For example\n",
        "\n",
        "**Headline:** i stand  with the shedevils  \n",
        "**Ngrams:** | **Sequence of Tokens**\n",
        "\n",
        "<table>\n",
        "<tr><td>Ngram </td><td> Sequence of Tokens</td></tr>\n",
        "<tr> <td>i stand </td><td> [30, 507] </td></tr>\n",
        "<tr> <td>i stand with </td><td> [30, 507, 11] </td></tr>\n",
        "<tr> <td>i stand with the </td><td> [30, 507, 11, 1] </td></tr>\n",
        "<tr> <td>i stand with the shedevils </td><td> [30, 507, 11, 1, 975] </td></tr>\n",
        "</table>\n",
        "\n",
        "\n",
        "\n",
        "### 3.3 Padding the Sequences and obtain Variables : Predictors and Target\n",
        "\n",
        "Now that we have generated a data-set which contains sequence of tokens, it is possible that different sequences have different lengths. Before starting training the model, we need to pad the sequences and make their lengths equal. We can use pad_sequence function of Kears for this purpose. To input this data into a learning model, we need to create predictors and label. We will create N-grams sequence as predictors and the next word of the N-gram as label. For example:\n",
        "\n",
        "\n",
        "Headline:  they are learning data science\n",
        "\n",
        "<table>\n",
        "<tr><td>PREDICTORS </td> <td>           LABEL </td></tr>\n",
        "<tr><td>they                   </td> <td>  are</td></tr>\n",
        "<tr><td>they are               </td> <td>  learning</td></tr>\n",
        "<tr><td>they are learning      </td> <td>  data</td></tr>\n",
        "<tr><td>they are learning data </td> <td>  science</td></tr>\n",
        "</table>"
      ],
      "metadata": {
        "_uuid": "f22aa5e0c04620ca5034ab9389322eee543060c6",
        "_cell_guid": "a22c88f5-f2a3-457c-835b-63341e657e3f",
        "id": "pbnCLH7HrKzM"
      }
    },
    {
      "cell_type": "code",
      "source": [
        "def generate_padded_sequences(input_sequences):\n",
        "    max_sequence_len = max([len(x) for x in input_sequences])\n",
        "    input_sequences = np.array(pad_sequences(input_sequences, maxlen=max_sequence_len, padding='pre'))\n",
        "\n",
        "    predictors, label = input_sequences[:,:-1],input_sequences[:,-1]\n",
        "    label = ku.to_categorical(label, num_classes=total_words)\n",
        "    return predictors, label, max_sequence_len\n",
        "\n",
        "predictors, label, max_sequence_len = generate_padded_sequences(inp_sequences)"
      ],
      "metadata": {
        "_uuid": "ca588b414e70e21bebcead960f6632805d37dd8c",
        "_cell_guid": "73254551-40bd-45b1-a7a5-88fe4cbe0b20",
        "execution": {
          "iopub.status.busy": "2023-11-20T18:34:43.369579Z",
          "iopub.execute_input": "2023-11-20T18:34:43.369813Z",
          "iopub.status.idle": "2023-11-20T18:34:43.451814Z",
          "shell.execute_reply.started": "2023-11-20T18:34:43.369769Z",
          "shell.execute_reply": "2023-11-20T18:34:43.451126Z"
        },
        "trusted": true,
        "id": "puAuAJltrKzN"
      },
      "execution_count": null,
      "outputs": []
    },
    {
      "cell_type": "markdown",
      "source": [
        "\n",
        "\n",
        " LSTM\n",
        "\n",
        "\n"
      ],
      "metadata": {
        "_uuid": "8b8a64b96011f427c48d5b0819e3e74af604ce43",
        "_cell_guid": "8b5d80ff-54a8-4380-8a3c-149be880551d",
        "id": "8spp7PkmrKzO"
      }
    },
    {
      "cell_type": "code",
      "source": [
        "def create_model(max_sequence_len, total_words):\n",
        "    input_len = max_sequence_len - 1\n",
        "    model = Sequential()\n",
        "\n",
        "    # Add Input Embedding Layer\n",
        "    model.add(Embedding(total_words, 10, input_length=input_len))\n",
        "\n",
        "    # Add Hidden Layer 1 - LSTM Layer\n",
        "    model.add(LSTM(100))\n",
        "    model.add(Dropout(0.1))\n",
        "\n",
        "    # Add Output Layer\n",
        "    model.add(Dense(total_words, activation='softmax'))\n",
        "\n",
        "    model.compile(loss='categorical_crossentropy', optimizer='adam')\n",
        "\n",
        "    return model\n",
        "\n",
        "model = create_model(max_sequence_len, total_words)\n",
        "model.summary()"
      ],
      "metadata": {
        "_uuid": "76ef6d9352002d333a7c75e8aed7ce996015f527",
        "_cell_guid": "60d6721e-e40e-4f2b-8f63-c06459d68f26",
        "execution": {
          "iopub.status.busy": "2023-11-20T18:34:43.453101Z",
          "iopub.execute_input": "2023-11-20T18:34:43.453347Z",
          "iopub.status.idle": "2023-11-20T18:34:43.840446Z",
          "shell.execute_reply.started": "2023-11-20T18:34:43.453307Z",
          "shell.execute_reply": "2023-11-20T18:34:43.839642Z"
        },
        "trusted": true,
        "id": "pTZ8U4-YrKzO",
        "outputId": "14461656-d531-4a74-f3b1-6b35257b9f5d",
        "colab": {
          "base_uri": "https://localhost:8080/"
        }
      },
      "execution_count": null,
      "outputs": [
        {
          "output_type": "stream",
          "name": "stdout",
          "text": [
            "Model: \"sequential\"\n",
            "_________________________________________________________________\n",
            " Layer (type)                Output Shape              Param #   \n",
            "=================================================================\n",
            " embedding (Embedding)       (None, 23, 10)            31330     \n",
            "                                                                 \n",
            " lstm (LSTM)                 (None, 100)               44400     \n",
            "                                                                 \n",
            " dropout (Dropout)           (None, 100)               0         \n",
            "                                                                 \n",
            " dense (Dense)               (None, 3133)              316433    \n",
            "                                                                 \n",
            "=================================================================\n",
            "Total params: 392163 (1.50 MB)\n",
            "Trainable params: 392163 (1.50 MB)\n",
            "Non-trainable params: 0 (0.00 Byte)\n",
            "_________________________________________________________________\n"
          ]
        }
      ]
    },
    {
      "cell_type": "markdown",
      "source": [
        "Lets train our model now"
      ],
      "metadata": {
        "_uuid": "f0b16b471969dbb831cb0024e303341e11b63de4",
        "_cell_guid": "1826aa1a-cb77-4379-a69d-e9b180945dce",
        "id": "wzaYTnmyrKzO"
      }
    },
    {
      "cell_type": "code",
      "source": [
        "model.fit(predictors, label, epochs=100, verbose=5)"
      ],
      "metadata": {
        "_uuid": "156f3303b8120cc6932e6db985cbea4a7ceb08bf",
        "_cell_guid": "07d5cf03-d171-4993-9f8b-18446649ecb0",
        "execution": {
          "iopub.status.busy": "2023-11-20T18:34:43.842637Z",
          "iopub.execute_input": "2023-11-20T18:34:43.842941Z"
        },
        "trusted": true,
        "id": "n2DEIhzbrKzP",
        "outputId": "e63f573c-8276-45fb-f431-509933c52068",
        "colab": {
          "base_uri": "https://localhost:8080/"
        }
      },
      "execution_count": null,
      "outputs": [
        {
          "output_type": "stream",
          "name": "stdout",
          "text": [
            "Epoch 1/100\n",
            "Epoch 2/100\n",
            "Epoch 3/100\n",
            "Epoch 4/100\n",
            "Epoch 5/100\n",
            "Epoch 6/100\n",
            "Epoch 7/100\n",
            "Epoch 8/100\n",
            "Epoch 9/100\n",
            "Epoch 10/100\n",
            "Epoch 11/100\n",
            "Epoch 12/100\n",
            "Epoch 13/100\n",
            "Epoch 14/100\n",
            "Epoch 15/100\n",
            "Epoch 16/100\n",
            "Epoch 17/100\n",
            "Epoch 18/100\n",
            "Epoch 19/100\n",
            "Epoch 20/100\n",
            "Epoch 21/100\n",
            "Epoch 22/100\n",
            "Epoch 23/100\n",
            "Epoch 24/100\n",
            "Epoch 25/100\n",
            "Epoch 26/100\n",
            "Epoch 27/100\n",
            "Epoch 28/100\n",
            "Epoch 29/100\n",
            "Epoch 30/100\n",
            "Epoch 31/100\n",
            "Epoch 32/100\n",
            "Epoch 33/100\n",
            "Epoch 34/100\n",
            "Epoch 35/100\n",
            "Epoch 36/100\n",
            "Epoch 37/100\n",
            "Epoch 38/100\n",
            "Epoch 39/100\n",
            "Epoch 40/100\n",
            "Epoch 41/100\n",
            "Epoch 42/100\n",
            "Epoch 43/100\n",
            "Epoch 44/100\n",
            "Epoch 45/100\n",
            "Epoch 46/100\n",
            "Epoch 47/100\n",
            "Epoch 48/100\n",
            "Epoch 49/100\n",
            "Epoch 50/100\n",
            "Epoch 51/100\n",
            "Epoch 52/100\n",
            "Epoch 53/100\n",
            "Epoch 54/100\n",
            "Epoch 55/100\n",
            "Epoch 56/100\n",
            "Epoch 57/100\n",
            "Epoch 58/100\n",
            "Epoch 59/100\n",
            "Epoch 60/100\n",
            "Epoch 61/100\n",
            "Epoch 62/100\n",
            "Epoch 63/100\n",
            "Epoch 64/100\n",
            "Epoch 65/100\n",
            "Epoch 66/100\n",
            "Epoch 67/100\n",
            "Epoch 68/100\n",
            "Epoch 69/100\n",
            "Epoch 70/100\n",
            "Epoch 71/100\n",
            "Epoch 72/100\n",
            "Epoch 73/100\n",
            "Epoch 74/100\n",
            "Epoch 75/100\n",
            "Epoch 76/100\n",
            "Epoch 77/100\n",
            "Epoch 78/100\n",
            "Epoch 79/100\n",
            "Epoch 80/100\n",
            "Epoch 81/100\n",
            "Epoch 82/100\n",
            "Epoch 83/100\n",
            "Epoch 84/100\n",
            "Epoch 85/100\n",
            "Epoch 86/100\n",
            "Epoch 87/100\n",
            "Epoch 88/100\n",
            "Epoch 89/100\n",
            "Epoch 90/100\n",
            "Epoch 91/100\n",
            "Epoch 92/100\n",
            "Epoch 93/100\n",
            "Epoch 94/100\n",
            "Epoch 95/100\n",
            "Epoch 96/100\n",
            "Epoch 97/100\n",
            "Epoch 98/100\n",
            "Epoch 99/100\n",
            "Epoch 100/100\n"
          ]
        },
        {
          "output_type": "execute_result",
          "data": {
            "text/plain": [
              "<keras.src.callbacks.History at 0x7e27643bf010>"
            ]
          },
          "metadata": {},
          "execution_count": 11
        }
      ]
    },
    {
      "cell_type": "markdown",
      "source": [
        "## 5. Generating the text\n",
        "\n",
        "Great, our model architecture is now ready and we can train it using our data. Next lets write the function to predict the next word based on the input words (or seed text). We will first tokenize the seed text, pad the sequences and pass into the trained model to get predicted word. The multiple predicted words can be appended together to get predicted sequence.\n"
      ],
      "metadata": {
        "_uuid": "448bf43b123060dfe4e27cb9f12889e4fe0ed2a7",
        "_cell_guid": "61e99cfe-7395-4d61-8d1a-8539103d3db5",
        "id": "5tipE2sarKzP"
      }
    },
    {
      "cell_type": "code",
      "source": [
        "def generate_text(seed_text, next_words, model, max_sequence_len):\n",
        "    for _ in range(next_words):\n",
        "        token_list = tokenizer.texts_to_sequences([seed_text])[0]\n",
        "        token_list = pad_sequences([token_list], maxlen=max_sequence_len-1, padding='pre')\n",
        "        predicted = model.predict(token_list, verbose=0)\n",
        "\n",
        "        # predicted_class = np.argmax(predicted_probs)\n",
        "        predicted_index = np.argmax(predicted)\n",
        "        # if index in predicted:\n",
        "        #     output_word = word\n",
        "        #     break\n",
        "\n",
        "        output_word = \"\"\n",
        "        for word,index in tokenizer.word_index.items():\n",
        "            if index in predicted:\n",
        "                output_word = word\n",
        "                break\n",
        "        seed_text += \" \"+output_word\n",
        "    return seed_text.title()"
      ],
      "metadata": {
        "_uuid": "e71e56543b7065f115a05e3fd062262b3b94ad46",
        "trusted": true,
        "id": "7gm3goCurKzP"
      },
      "execution_count": null,
      "outputs": []
    },
    {
      "cell_type": "markdown",
      "source": [
        "## 6. Some Results"
      ],
      "metadata": {
        "_uuid": "c49bf4ea0e54f3145149e164e243d897f545b84c",
        "_cell_guid": "ea0bddb6-acc6-4592-a2e0-ffc4129a582f",
        "id": "h1lnX17erKzP"
      }
    },
    {
      "cell_type": "code",
      "source": [
        "print (generate_text(\"united states\", 5, model, max_sequence_len))\n",
        "print (generate_text(\"preident trump\", 4, model, max_sequence_len))\n",
        "print (generate_text(\"donald trump\", 4, model, max_sequence_len))\n",
        "print (generate_text(\"india and china\", 4, model, max_sequence_len))\n",
        "print (generate_text(\"new york\", 4, model, max_sequence_len))\n",
        "print (generate_text(\"science and technology\", 5, model, max_sequence_len))"
      ],
      "metadata": {
        "_uuid": "a21548224c9e661a29e3d369e348aada0599bdc9",
        "_cell_guid": "e38dd280-093b-4091-b82b-9aa90045b107",
        "_kg_hide-input": true,
        "trusted": true,
        "id": "mQcSMVKnrKzP",
        "outputId": "a892dcdc-008d-4b27-9f8d-565c5d81e83e",
        "colab": {
          "base_uri": "https://localhost:8080/"
        }
      },
      "execution_count": null,
      "outputs": [
        {
          "output_type": "stream",
          "name": "stdout",
          "text": [
            "United States     \n",
            "Preident Trump    \n",
            "Donald Trump    \n",
            "India And China    \n",
            "New York    \n",
            "Science And Technology     \n"
          ]
        }
      ]
    },
    {
      "cell_type": "markdown",
      "source": [],
      "metadata": {
        "_uuid": "279f2e20c482b40d707413d0b1842f179a0d3d7b",
        "_cell_guid": "b2cfe563-974a-4e05-ad60-233d409d3de1",
        "id": "-ecPGn9nrKzQ"
      }
    }
  ]
}